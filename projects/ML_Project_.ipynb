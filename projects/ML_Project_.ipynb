{
  "nbformat": 4,
  "nbformat_minor": 0,
  "metadata": {
    "colab": {
      "name": "ML- Project .ipynb",
      "provenance": [],
      "collapsed_sections": [],
      "toc_visible": true
    },
    "kernelspec": {
      "name": "python3",
      "display_name": "Python 3"
    }
  },
  "cells": [
    {
      "cell_type": "code",
      "metadata": {
        "id": "rWH2VbhmVomK",
        "colab_type": "code",
        "colab": {}
      },
      "source": [
        "# QUESTIONS:\n",
        "# no matter what classifier we are using: with the feature selection we don't want to \n",
        "# get a lot worse, not better (try tree on the selected features? or would this be\n",
        "# redundant?)\n",
        "\n",
        "# COMMENTS:\n",
        "# order: put forest before tree, because we are actually using the number of features \n",
        "# suggested by the tree not by the forest \n",
        "# especially because of bootstrap, think about splitting of the data \n",
        "# we still need to compare the solutions to a tree trained on the whole train_set !"
      ],
      "execution_count": 0,
      "outputs": []
    },
    {
      "cell_type": "markdown",
      "metadata": {
        "id": "RpmubBpZMuLR",
        "colab_type": "text"
      },
      "source": [
        "# Report\n",
        "\n",
        "All together we need to have 4 pages, 2 of which need to be a written report and the rest are diagrams and images. The code needs to be in the appendix. \n",
        "\n",
        "In this machine learning project our aim was to do feature selection on biomedical data, which we found on kaggle. The features of the data consist of over 20,000 different genes. The values of the features are numerical. \n",
        "\n",
        "There are several feature selection methods, which can be grouped in embedded methods, filter methods and wrapped methods. In our project we focused on embedded methods, even though we also tried some filter methods. Embedded methods are algorithms that have an intrinsic feature selection, like for example random decision trees and random decision forests.  Once a random decision tree is built we can look at the feature score and check which features have been used and which have not. Even better the score also tells us how important the feature is in comparison to the others. \n",
        "\n",
        "Before we could start to implement a chosen feature selection method, we needed to choose a classifier to test the results we obtained by using feature selection. As we wanted to use random decision trees to select our features, we decided to use the K-nearest neighbors classifier to compare our results. At the beginning of the code we did a cross-validation to find out how many neighbors we need to use for the whole feature set to obtain the best accuracy score. Once we decided on a suitable feature subset we will do the same cross-validation to find out the optimal $K$ for the modified problem.  \n",
        "\n",
        "We are going to evaluate the different results using  cross validation and the train, test and validation split.  \n",
        "\n",
        "Our first attempt was to look at the feature scores of a random decision forest that consists of 100 weak decision trees. Roughly 3000 features have been used in total. \n",
        "IMAGE \n",
        "However our aim was to select still fewer features. That is why we decided to look at the features that have been chosen by single, but strong decision trees. On average those classifiers chose about 20 features from the given 20,000.  \n",
        "IMAGE\n",
        "\n",
        "features have not been the same\n",
        "can we still get less than 20 features?\n",
        "K nearest neighbor classifier to test"
      ]
    },
    {
      "cell_type": "markdown",
      "metadata": {
        "id": "Y2x9c9k-NH9S",
        "colab_type": "text"
      },
      "source": [
        "# Appendix\n",
        "Needs to contain the clean code. "
      ]
    },
    {
      "cell_type": "code",
      "metadata": {
        "id": "xmZTd0ZOcYO8",
        "colab_type": "code",
        "colab": {}
      },
      "source": [
        "from google.colab import files\n",
        "from zipfile import ZipFile\n",
        "from sklearn import (datasets, svm, tree, model_selection, linear_model, metrics, \n",
        "preprocessing, pipeline, feature_selection)\n",
        "from sklearn.tree import DecisionTreeClassifier\n",
        "from sklearn.neighbors import KNeighborsClassifier\n",
        "from sklearn.ensemble import ExtraTreesClassifier\n",
        "from sklearn.feature_selection import chi2\n",
        "from collections import Counter\n",
        "\n",
        "import scipy.stats\n",
        "import pandas as pd\n",
        "import numpy as np\n",
        "import random\n",
        "import matplotlib.pyplot as plt\n",
        "import matplotlib.lines as mlines"
      ],
      "execution_count": 0,
      "outputs": []
    },
    {
      "cell_type": "code",
      "metadata": {
        "id": "d8QWObQRut4g",
        "colab_type": "code",
        "outputId": "bbb4d230-a859-4005-f217-0fecfab30862",
        "colab": {
          "resources": {
            "http://localhost:8080/nbextensions/google.colab/files.js": {
              "data": "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",
              "ok": true,
              "headers": [
                [
                  "content-type",
                  "application/javascript"
                ]
              ],
              "status": 200,
              "status_text": ""
            }
          },
          "base_uri": "https://localhost:8080/",
          "height": 88
        }
      },
      "source": [
        "files.upload()"
      ],
      "execution_count": 0,
      "outputs": [
        {
          "output_type": "display_data",
          "data": {
            "text/html": [
              "\n",
              "     <input type=\"file\" id=\"files-083f23ca-8a0a-4bd7-96d4-8defd227bd91\" name=\"files[]\" multiple disabled />\n",
              "     <output id=\"result-083f23ca-8a0a-4bd7-96d4-8defd227bd91\">\n",
              "      Upload widget is only available when the cell has been executed in the\n",
              "      current browser session. Please rerun this cell to enable.\n",
              "      </output>\n",
              "      <script src=\"/nbextensions/google.colab/files.js\"></script> "
            ],
            "text/plain": [
              "<IPython.core.display.HTML object>"
            ]
          },
          "metadata": {
            "tags": []
          }
        },
        {
          "output_type": "stream",
          "text": [
            "Saving kaggle.json to kaggle.json\n"
          ],
          "name": "stdout"
        },
        {
          "output_type": "execute_result",
          "data": {
            "text/plain": [
              "{'kaggle.json': b'{\"username\":\"nasreenahmed\",\"key\":\"84d6e93849aba924992e6ca3bd7c579d\"}'}"
            ]
          },
          "metadata": {
            "tags": []
          },
          "execution_count": 2
        }
      ]
    },
    {
      "cell_type": "code",
      "metadata": {
        "id": "-zYIST1RvXtr",
        "colab_type": "code",
        "colab": {}
      },
      "source": [
        "!pip install -q kaggle"
      ],
      "execution_count": 0,
      "outputs": []
    },
    {
      "cell_type": "code",
      "metadata": {
        "id": "ZpjynPUtviLN",
        "colab_type": "code",
        "colab": {}
      },
      "source": [
        "!mkdir -p ~/.kaggle\n",
        "!cp kaggle.json ~/.kaggle/\n",
        "\n",
        "!chmod 600 ~/.kaggle/kaggle.json"
      ],
      "execution_count": 0,
      "outputs": []
    },
    {
      "cell_type": "code",
      "metadata": {
        "id": "Kn98hPnxwSuf",
        "colab_type": "code",
        "outputId": "cf449c66-29f1-4f04-8e5e-852e663b1433",
        "colab": {
          "base_uri": "https://localhost:8080/",
          "height": 68
        }
      },
      "source": [
        "# download dataset\n",
        "!kaggle datasets download -d murats/gene-expression-cancer-rnaseq"
      ],
      "execution_count": 0,
      "outputs": [
        {
          "output_type": "stream",
          "text": [
            "Downloading gene-expression-cancer-rnaseq.zip to /content\n",
            " 92% 65.0M/70.6M [00:00<00:00, 73.5MB/s]\n",
            "100% 70.6M/70.6M [00:00<00:00, 131MB/s] \n"
          ],
          "name": "stdout"
        }
      ]
    },
    {
      "cell_type": "code",
      "metadata": {
        "id": "AfHUZJPIzqPZ",
        "colab_type": "code",
        "colab": {}
      },
      "source": [
        "# extract the data from the zip file\n",
        "zip_file = ZipFile('/content/gene-expression-cancer-rnaseq.zip')\n",
        "fields = ['data', 'labels']\n",
        "data_rna = pd.read_csv(zip_file.open('data.csv'))\n",
        "labels_rna = pd.read_csv(zip_file.open('labels.csv'))"
      ],
      "execution_count": 0,
      "outputs": []
    },
    {
      "cell_type": "code",
      "metadata": {
        "id": "zfqsgm-lmS2Z",
        "colab_type": "code",
        "colab": {}
      },
      "source": [
        "# we want to split our data into 3 parts: train, validation, test\n",
        "# 3 parts so we can tune the hyper parameters with the validation set and \n",
        "# test everything on a set that has not been used before\n",
        "\n",
        "# data and labels are np.arrays of the same size\n",
        "\n",
        "def train_validate_test_split(data, labels, train_percent = .6, validate_percent = .2,\n",
        "                              seed = None):\n",
        "    # set seed so we are able to reproduce the split\n",
        "    np.random.seed(seed)\n",
        "\n",
        "    # shuffle the indices of the array\n",
        "    n = data.shape[0]\n",
        "    perm = np.random.permutation(n)\n",
        "    train_end = int(train_percent * n)\n",
        "    validation_end = int(validate_percent * n) + train_end\n",
        "\n",
        "    train_data = data[perm[:train_end]]\n",
        "    train_label = labels[perm[:train_end]]\n",
        "\n",
        "    val_data = data[perm[train_end:validation_end]]\n",
        "    val_label = labels[perm[train_end:validation_end]]\n",
        "\n",
        "    test_data = data[perm[validation_end:]]\n",
        "    test_label = labels[perm[validation_end:]]\n",
        "\n",
        "    return train_data, train_label, val_data, val_label, test_data, test_label"
      ],
      "execution_count": 0,
      "outputs": []
    },
    {
      "cell_type": "code",
      "metadata": {
        "id": "DLu_SmxI1VhS",
        "colab_type": "code",
        "colab": {}
      },
      "source": [
        "# prepare the data\n",
        "\n",
        "# 1. transform data into array\n",
        "data = data_rna.values\n",
        "labels = labels_rna.values\n",
        "\n",
        "# 2. get rid of the name (sample xy)\n",
        "# one row -> one sample\n",
        "data = data[:,1:]\n",
        "labels = labels[:,1:]\n",
        "\n",
        "# 3. transform names of labels into numbers, t_labels is the new label variable\n",
        "target_names, t_labels = np.unique(labels, return_inverse = True)\n",
        "\n",
        "# 4. split data in train, val and test\n",
        "train_data, train_labels, val_data, val_labels, test_data, test_labels = train_validate_test_split(data, t_labels)"
      ],
      "execution_count": 0,
      "outputs": []
    },
    {
      "cell_type": "code",
      "metadata": {
        "id": "zGEynvHsHOhZ",
        "colab_type": "code",
        "outputId": "ce0105e2-c075-4f69-de87-ae60c267d00c",
        "colab": {
          "base_uri": "https://localhost:8080/",
          "height": 312
        }
      },
      "source": [
        "# K nearest neighbors classifier \n",
        "# find out how many neighbors to use for the whole data set\n",
        "mean_k = []\n",
        "var_k = []\n",
        "for k in range(1,15):\n",
        "    clf = KNeighborsClassifier(n_neighbors=k)\n",
        "    cross_val = model_selection.cross_val_score(clf, train_data, train_labels, cv = 5)\n",
        "    mean_k.append(cross_val.mean())\n",
        "    var_k.append(cross_val.var())\n",
        "\n",
        "k_wholeset = np.argmax(mean_k) + 1\n",
        "plt.figure()\n",
        "plt.title('Cross Validation KNN (whole feature set)')\n",
        "plt.xlabel('Number of neighbors')\n",
        "plt.ylabel('Cross validation accuracy score')\n",
        "plt.ylim(0.9,1.05)\n",
        "plt.errorbar(range(1,15), mean_k, yerr = var_k, fmt = 'o')\n",
        "plt.plot(k_wholeset * np.ones(50), np.linspace(0, 1.2), color = 'red')\n",
        "plt.show()\n",
        "print('Cross validation accuracy score of KNN for k = %d on the whole feature set: %.3f' %(k_wholeset, mean_k[k_wholeset-1]))"
      ],
      "execution_count": 0,
      "outputs": [
        {
          "output_type": "display_data",
          "data": {
            "image/png": "[encoded data removed]",
            "text/plain": [
              "<Figure size 432x288 with 1 Axes>"
            ]
          },
          "metadata": {
            "tags": []
          }
        },
        {
          "output_type": "stream",
          "text": [
            "Cross validation accuracy score of KNN for k = 1 on the whole feature set: 1.000\n"
          ],
          "name": "stdout"
        }
      ]
    },
    {
      "cell_type": "code",
      "metadata": {
        "id": "g1J9I4uILQ5T",
        "colab_type": "code",
        "outputId": "eb514dbb-bfe4-4edb-b973-5e3ac0d35025",
        "colab": {
          "base_uri": "https://localhost:8080/",
          "height": 332
        }
      },
      "source": [
        "# feature selection using random decision forests (feature ranking) \n",
        "forest = ExtraTreesClassifier(n_estimators = 100, random_state = 0)\n",
        "forest = forest.fit(train_data, train_labels)\n",
        "\n",
        "importances = forest.feature_importances_\n",
        "ind = np.argsort(importances)[::-1]\n",
        "\n",
        "selected_features_forest = []\n",
        "for f in range(train_data.shape[1]):\n",
        "    if (importances[ind[f]] == 0):\n",
        "        break\n",
        "    selected_features_forest.append(ind[f])\n",
        "\n",
        "plt.figure()\n",
        "plt.title(\"Feature selection forest\")\n",
        "print(selected_features_forest[0:20])\n",
        "plt.scatter(range(train_data.shape[1]), importances[ind])\n",
        "\n",
        "# to show where the feature importances become 0 \n",
        "plt.plot(np.ones(50)*len(selected_features_forest), np.linspace(0,1), 'k-', color = 'red')\n",
        "plt.xlabel('number of features')\n",
        "plt.ylabel('feature importance')\n",
        "plt.xlim(0,5000)\n",
        "plt.ylim(0, 0.007)\n",
        "plt.show()"
      ],
      "execution_count": 0,
      "outputs": [
        {
          "output_type": "stream",
          "text": [
            "[2910, 13210, 14114, 1510, 19296, 13818, 11920, 17316, 18391, 17751, 9184, 18135, 8014, 450, 7992, 16377, 3737, 11713, 2774, 1846]\n"
          ],
          "name": "stdout"
        },
        {
          "output_type": "display_data",
          "data": {
            "image/png": "[encoded data removed]",
            "text/plain": [
              "<Figure size 432x288 with 1 Axes>"
            ]
          },
          "metadata": {
            "tags": []
          }
        }
      ]
    },
    {
      "cell_type": "markdown",
      "metadata": {
        "id": "DiB-vlraSZH2",
        "colab_type": "text"
      },
      "source": [
        "We want to try to reduce the number of features even further, that is why we are using strong single decision trees now. "
      ]
    },
    {
      "cell_type": "code",
      "metadata": {
        "id": "SBg6JRXUlqC3",
        "colab_type": "code",
        "outputId": "ca631992-822f-4e2d-cf7a-0d55227ab380",
        "colab": {
          "base_uri": "https://localhost:8080/",
          "height": 295
        }
      },
      "source": [
        "# random decision tree feature selection (feature ranking)\n",
        "tree_clf = DecisionTreeClassifier(splitter = 'best', max_features='sqrt')\n",
        "tree_clf = tree_clf.fit(train_data, train_labels)\n",
        "\n",
        "importances = tree_clf.feature_importances_\n",
        "ind = np.argsort(importances)[::-1]\n",
        "\n",
        "selected_features_tree = []\n",
        "for f in range(train_data.shape[1]):\n",
        "    if (importances[ind[f]] == 0):\n",
        "         break\n",
        "    selected_features_tree.append(ind[f])\n",
        "\n",
        "plt.figure()\n",
        "plt.title('Feature selection single tree')\n",
        "plt.scatter(range(train_data.shape[1]), importances[ind])\n",
        "plt.plot(np.ones(50)*len(selected_features_tree), np.linspace(0,1), 'k-', color = 'red')\n",
        "plt.xlabel('number of features')\n",
        "plt.ylabel('feature importance')\n",
        "plt.xlim(0,50)\n",
        "plt.ylim(0,0.4)\n",
        "plt.show()"
      ],
      "execution_count": 0,
      "outputs": [
        {
          "output_type": "display_data",
          "data": {
            "image/png": "[encoded data removed]",
            "text/plain": [
              "<Figure size 432x288 with 1 Axes>"
            ]
          },
          "metadata": {
            "tags": []
          }
        }
      ]
    },
    {
      "cell_type": "markdown",
      "metadata": {
        "id": "vM8uTqbATDAH",
        "colab_type": "text"
      },
      "source": [
        "We found out that the random decision tree does not always choose the same features. We run the code multiple times and then counted the number of times a feature was selected by the tree. We then chose a feature subset consisting of all the features that appeared in more than one tree. (Makes the subset a bit smaller than the average number of selected features by a single tree) "
      ]
    },
    {
      "cell_type": "code",
      "metadata": {
        "id": "BE3D6wPwkR-V",
        "colab_type": "code",
        "colab": {}
      },
      "source": [
        "# find out which features are chosen by a strong decision tree classifier\n",
        "# train 20 strong decision tree classifier to find out which features are the \n",
        "# most important ones \n",
        "\n",
        "total_ft = []\n",
        "total_means = []\n",
        "for rep in range(20):\n",
        "    features = []\n",
        "    tree_clf = DecisionTreeClassifier(splitter = 'best', max_features = 'sqrt')\n",
        "    tree_clf = tree_clf.fit(train_data, train_labels)\n",
        "\n",
        "    importances = tree_clf.feature_importances_\n",
        "    ind = np.argsort(importances)[::-1]\n",
        "\n",
        "    for f in range(train_data.shape[1]):\n",
        "        if (importances[ind[f]] == 0):\n",
        "            break\n",
        "        # with features i just want to know how many features are important\n",
        "        # can probably solved in a better way    \n",
        "        features.append(ind[f])\n",
        "        total_ft.append(ind[f])\n",
        "\n",
        "    total_means.append(len(features))\n",
        "\n",
        "# Show which feature was selected how often\n",
        "feat_information = Counter(total_ft)"
      ],
      "execution_count": 0,
      "outputs": []
    },
    {
      "cell_type": "code",
      "metadata": {
        "id": "hBRHwF5CoTU9",
        "colab_type": "code",
        "outputId": "4b065d4f-316c-4cfb-8394-3dd34eeba1fa",
        "colab": {
          "base_uri": "https://localhost:8080/",
          "height": 34
        }
      },
      "source": [
        "# we need to collect the features that have been chosen more than once \n",
        "feat_dict = dict(feat_information)\n",
        "feat_list = list(feat_information)\n",
        "nb_feat = int(np.mean(total_means))\n",
        "\n",
        "features_tree = []\n",
        "for i in feat_list:\n",
        "    if (feat_dict[i] > 1):\n",
        "        features_tree.append(i)\n",
        "\n",
        "# can be improved as well         \n",
        "print('The subset consists of %d features, which occured in more than one tree' %len(features_tree))"
      ],
      "execution_count": 0,
      "outputs": [
        {
          "output_type": "stream",
          "text": [
            "The subset consists of 14 features, which occured in more than one tree\n"
          ],
          "name": "stdout"
        }
      ]
    },
    {
      "cell_type": "code",
      "metadata": {
        "id": "SQHh6U1nWBQz",
        "colab_type": "code",
        "colab": {}
      },
      "source": [
        "# set the subset train data \n",
        "train_data_subset = train_data[:, features_tree]"
      ],
      "execution_count": 0,
      "outputs": []
    },
    {
      "cell_type": "code",
      "metadata": {
        "id": "_kEDq2LXOt4G",
        "colab_type": "code",
        "outputId": "b069ff55-c882-4da7-b276-25ec2993f7f2",
        "colab": {
          "base_uri": "https://localhost:8080/",
          "height": 743
        }
      },
      "source": [
        "from mlxtend.feature_selection import SequentialFeatureSelector as SFS\n",
        "from mlxtend.plotting import plot_sequential_feature_selection as plot_sfs\n",
        "\n",
        "# Sequential Forward Selection\n",
        "sfs = SFS(RandomForestClassifier(), \n",
        "          k_features=10, \n",
        "          forward=True, \n",
        "          floating=False, \n",
        "          scoring='accuracy',\n",
        "          cv=4,\n",
        "          n_jobs=-1)\n",
        "sfs = sfs.fit(train_data_subset,train_labels)\n",
        "\n",
        "print('\\nSequential Forward Selection (k=10):')\n",
        "print(sfs.k_feature_idx_)\n",
        "print('CV Score:')\n",
        "print(sfs.k_score_)\n",
        "\n",
        "fig1 = plot_sfs(sfs.get_metric_dict(), kind='std_dev')\n",
        "\n",
        "plt.ylim([0.8, 1])\n",
        "plt.title('Sequential Forward Selection (w. StdDev)')\n",
        "plt.grid()\n",
        "plt.show()\n",
        "###################################################\n",
        "\n",
        "# Sequential Backward Selection\n",
        "sbs = SFS(RandomForestClassifier(), \n",
        "          k_features=10, \n",
        "          forward=False, \n",
        "          floating=False, \n",
        "          scoring='accuracy',\n",
        "          cv=4,\n",
        "          n_jobs=-1)\n",
        "sbs = sbs.fit(train_data_subset,train_labels)\n",
        "\n",
        "print('\\nSequential Backward Selection (k=10):')\n",
        "print(sbs.k_feature_idx_)\n",
        "print('CV Score:')\n",
        "print(sbs.k_score_)\n",
        "\n",
        "fig1 = plot_sfs(sbs.get_metric_dict(), kind='std_dev')\n",
        "\n",
        "plt.ylim([0.8, 1])\n",
        "plt.title('Sequential Forward Selection (w. StdDev)')\n",
        "plt.grid()\n",
        "plt.show()"
      ],
      "execution_count": 0,
      "outputs": [
        {
          "output_type": "stream",
          "text": [
            "\n",
            "Sequential Forward Selection (k=10):\n",
            "(0, 1, 3, 4, 5, 6, 8, 11, 12, 13)\n",
            "CV Score:\n",
            "0.9979166666666667\n"
          ],
          "name": "stdout"
        },
        {
          "output_type": "display_data",
          "data": {
            "image/png": "[encoded data removed]",
            "text/plain": [
              "<Figure size 432x288 with 1 Axes>"
            ]
          },
          "metadata": {
            "tags": []
          }
        },
        {
          "output_type": "stream",
          "text": [
            "\n",
            "Sequential Backward Selection (k=10):\n",
            "(0, 1, 2, 3, 4, 5, 8, 11, 12, 13)\n",
            "CV Score:\n",
            "0.9958333333333333\n"
          ],
          "name": "stdout"
        },
        {
          "output_type": "display_data",
          "data": {
            "image/png": "[encoded data removed]",
            "text/plain": [
              "<Figure size 432x288 with 1 Axes>"
            ]
          },
          "metadata": {
            "tags": []
          }
        }
      ]
    },
    {
      "cell_type": "code",
      "metadata": {
        "id": "Vc4N64-3YqfH",
        "colab_type": "code",
        "colab": {}
      },
      "source": [
        "# Extracting the index for forward selection \n",
        "sfs_feature_list = np.array(sfs.k_feature_idx_)\n",
        "res_list_sfs = [features_tree[i] for i in sfs_feature_list]\n",
        "train_data_subset_sfs = train_data[:, res_list_sfs]\n",
        "\n",
        "# Extracting the index for backward elimination\n",
        "sfs_feature_list = np.array(sbs.k_feature_idx_)\n",
        "res_list_sbs = [features_tree[i] for i in sfs_feature_list]\n",
        "train_data_subset_sbs = train_data[:, res_list_sbs]"
      ],
      "execution_count": 0,
      "outputs": []
    },
    {
      "cell_type": "code",
      "metadata": {
        "id": "FSLmOdJI-qNo",
        "colab_type": "code",
        "outputId": "c7460bc9-4a97-4eb4-908e-c919bbba3c3c",
        "colab": {
          "base_uri": "https://localhost:8080/",
          "height": 312
        }
      },
      "source": [
        "# test the classifier with cross validation for each iteration\n",
        "# check this again\n",
        "mean_list_k = []\n",
        "for k in range(1,15):\n",
        "    clf = KNeighborsClassifier(n_neighbors=k)\n",
        "    cross_val = model_selection.cross_val_score(clf, train_data_subset, train_labels, cv = 5)\n",
        "    mean_list_k.append(cross_val.mean())\n",
        "\n",
        "k_subset = np.argmax(mean_list_k) + 1\n",
        "plt.scatter(range(1,15), mean_list_k)\n",
        "plt.plot(k_subset * np.ones(50), np.linspace(0,1.2), color = 'red')\n",
        "plt.title('KNN for differrent values of k (on feature subset)')\n",
        "plt.xlabel('Number of neighbours')\n",
        "plt.ylabel('Cross validation score')\n",
        "plt.ylim(0.9,1.05)\n",
        "plt.show()\n",
        "\n",
        "print('Cross validation accuracy score of KNN for k = %d on the feature subset: %.3f' %(k_subset, mean_list_k[k_subset-1]))"
      ],
      "execution_count": 0,
      "outputs": [
        {
          "output_type": "display_data",
          "data": {
            "image/png": "[encoded data removed]",
            "text/plain": [
              "<Figure size 432x288 with 1 Axes>"
            ]
          },
          "metadata": {
            "tags": []
          }
        },
        {
          "output_type": "stream",
          "text": [
            "Cross validation accuracy score of KNN for k = 3 on the feature subset: 1.000\n"
          ],
          "name": "stdout"
        }
      ]
    },
    {
      "cell_type": "code",
      "metadata": {
        "id": "ahgqyv5sbarh",
        "colab_type": "code",
        "outputId": "74b1282d-d3d5-4b48-c68e-d881b9ea211c",
        "colab": {
          "base_uri": "https://localhost:8080/",
          "height": 88
        }
      },
      "source": [
        "# Checking the accuray of the forward selection feature selection method\n",
        "knn_allfeatures = KNeighborsClassifier(n_neighbors=k_wholeset)\n",
        "knn_allfeatures = knn_allfeatures.fit(train_data, train_labels)\n",
        "pred_all = knn_allfeatures.predict(val_data)\n",
        "score_all = metrics.accuracy_score(val_labels, pred_all)\n",
        "print('The KNN classifier trained on the whole feature set gives an accuracy of %.3f' %score_all)\n",
        "\n",
        "# Accuray of the forward selection feature selection method\n",
        "knn_reduced = KNeighborsClassifier(n_neighbors=k_subset)\n",
        "knn_reduced = knn_reduced.fit(train_data_subset_sfs, train_labels)\n",
        "pred_reduced = knn_reduced.predict(val_data[:, res_list_sfs])\n",
        "score_reduced = metrics.accuracy_score(val_labels, pred_reduced)\n",
        "print('The KNN classifier trained on the feature subset obtained from forward selection of size %d gives an accuracy of %.3f' %(len(res_list_sfs), score_reduced))\n",
        "\n",
        "# Accuray of the Backward Eliminationfeature selection method\n",
        "knn_reduced = KNeighborsClassifier(n_neighbors=k_subset)\n",
        "knn_reduced = knn_reduced.fit(train_data_subset_sbs, train_labels)\n",
        "pred_reduced = knn_reduced.predict(val_data[:, res_list_sbs])\n",
        "score_reduced = metrics.accuracy_score(val_labels, pred_reduced)\n",
        "print('The KNN classifier trained on the feature subset obtained from backward elimination of size %d gives an accuracy of %.3f' %(len(res_list_sbs), score_reduced))"
      ],
      "execution_count": 0,
      "outputs": [
        {
          "output_type": "stream",
          "text": [
            "The KNN classifier trained on the whole feature set gives an accuracy of 0.994\n",
            "The KNN classifier trained on the feature subset obtained from forward selection of size 10 gives an accuracy of 0.975\n",
            "The KNN classifier trained on the feature subset obtained from backward elimination of size 10 gives an accuracy of 0.981\n"
          ],
          "name": "stdout"
        }
      ]
    },
    {
      "cell_type": "markdown",
      "metadata": {
        "id": "PRgRWbPTbQi9",
        "colab_type": "text"
      },
      "source": [
        "Before getting rid of even more features check the accuracy of the subset in comparison to the whole feature set. "
      ]
    },
    {
      "cell_type": "code",
      "metadata": {
        "id": "MI0S5FwWyBGl",
        "colab_type": "code",
        "outputId": "4bf50a6b-373e-4af4-a9f0-73baaf92659f",
        "colab": {
          "base_uri": "https://localhost:8080/",
          "height": 51
        }
      },
      "source": [
        "knn_allfeatures = KNeighborsClassifier(n_neighbors=k_wholeset)\n",
        "knn_allfeatures = knn_allfeatures.fit(train_data, train_labels)\n",
        "pred_all = knn_allfeatures.predict(val_data)\n",
        "score_all = metrics.accuracy_score(val_labels, pred_all)\n",
        "print('The KNN classifier trained on the whole feature set gives an accuracy of %.3f' %score_all)\n",
        "\n",
        "knn_reduced = KNeighborsClassifier(n_neighbors=k_subset)\n",
        "knn_reduced = knn_reduced.fit(train_data_subset, train_labels)\n",
        "pred_reduced = knn_reduced.predict(val_data[:, features_tree])\n",
        "score_reduced = metrics.accuracy_score(val_labels, pred_reduced)\n",
        "print('The KNN classifier trained on the feature subset of size %d gives an accuracy of %.3f' %(len(features_tree), score_reduced))"
      ],
      "execution_count": 0,
      "outputs": [
        {
          "output_type": "stream",
          "text": [
            "The KNN classifier trained on the whole feature set gives an accuracy of 0.994\n",
            "The KNN classifier trained on the feature subset of size 14 gives an accuracy of 0.969\n"
          ],
          "name": "stdout"
        }
      ]
    },
    {
      "cell_type": "markdown",
      "metadata": {
        "id": "hIj6Zi0_aOx2",
        "colab_type": "text"
      },
      "source": [
        "We have now reduced the number of features from more than 20,000 to about 20. However we want to know whether we can possibly reduce the features even more without loosing too much accuracy. Now we are using filter methods like pearson correlation and chi2 score to find out whether all of the 20 features are relevant.  "
      ]
    },
    {
      "cell_type": "code",
      "metadata": {
        "id": "yesDm73HVbf4",
        "colab_type": "code",
        "outputId": "69eac58c-946b-43c5-cfed-d9640645010f",
        "colab": {
          "base_uri": "https://localhost:8080/",
          "height": 295
        }
      },
      "source": [
        "# try to reduce the features we have selected from the tree by comparing \n",
        "# their chi squared scores \n",
        "# we compute the chi square value for each feature\n",
        "# we only want to include features that have a high score\n",
        "# we want to find out the features for which the class is highly dependant on its \n",
        "# occurence\n",
        "# the higher the chi squre score, the more dependant are the two events\n",
        "# so we only want to include features in the model, which have a high score\n",
        "\n",
        "chi_features = chi2(train_data_subset, train_labels)[0]\n",
        "selected_features_chi_score = np.argsort(chi_features)[::-1]\n",
        "chi_values = np.sort(chi_features)[::-1]\n",
        "\n",
        "plt.title('Feature selection chi square')\n",
        "plt.xlabel('number of features')\n",
        "plt.ylabel('chi square score')\n",
        "plt.plot(np.linspace(-1,len(chi_features)+1), 500*np.ones(50), color = 'red')\n",
        "plt.xlim(-0.5, len(chi_features)+0.5)\n",
        "plt.scatter(np.arange(0,chi_plot.shape[0]),chi_plot)\n",
        "plt.show()"
      ],
      "execution_count": 0,
      "outputs": [
        {
          "output_type": "display_data",
          "data": {
            "image/png": "[encoded data removed]",
            "text/plain": [
              "<Figure size 432x288 with 1 Axes>"
            ]
          },
          "metadata": {
            "tags": []
          }
        }
      ]
    },
    {
      "cell_type": "markdown",
      "metadata": {
        "id": "o1HE1GKWdDhZ",
        "colab_type": "text"
      },
      "source": [
        "We can see that the chi squared values are torn apart. That is why we assume it is justified to try to cut the features that have a chi 2 score lower than 500 (there is a gap). "
      ]
    },
    {
      "cell_type": "code",
      "metadata": {
        "id": "hWZokJL9da7A",
        "colab_type": "code",
        "colab": {}
      },
      "source": [
        "# only use those features who have a higher chi2 score than 500 \n",
        "features_chi2 = []\n",
        "for i in range(len(features_tree)):\n",
        "    if (chi_features[i] >= 500):\n",
        "        features_chi2.append(features_tree[i])"
      ],
      "execution_count": 0,
      "outputs": []
    },
    {
      "cell_type": "code",
      "metadata": {
        "id": "N-Pph14Lik4v",
        "colab_type": "code",
        "outputId": "abf9ec24-5717-482b-f052-77eb24c37935",
        "colab": {
          "base_uri": "https://localhost:8080/",
          "height": 34
        }
      },
      "source": [
        "train_data_chi2_subset = train_data[:, features_chi2]\n",
        "knn_chi2 = KNeighborsClassifier(n_neighbors=k_subset)\n",
        "knn_chi2 = knn_chi2.fit(train_data_chi2_subset, train_labels)\n",
        "pred = knn_chi2.predict(val_data[:,features_chi2])\n",
        "score_chi2 = metrics.accuracy_score(val_labels, pred)\n",
        "\n",
        "print('The KNN classifier on a subset of size %d gives an accuracy of %.3f' %(len(features_chi2), score_chi2))"
      ],
      "execution_count": 0,
      "outputs": [
        {
          "output_type": "stream",
          "text": [
            "The KNN classifier on a subset of size 12 gives an accuracy of 0.994\n"
          ],
          "name": "stdout"
        }
      ]
    },
    {
      "cell_type": "markdown",
      "metadata": {
        "id": "5D1KSdljoN8Z",
        "colab_type": "text"
      },
      "source": [
        "Check whether some of the remaining features are correlated. However as we only have 9 features left, I decided to only delete a feature if it's very strongly correlated to another one (meaning in this case the absolute value of the score is higher than 0.75). "
      ]
    },
    {
      "cell_type": "code",
      "metadata": {
        "id": "xFbkD80Ous7E",
        "colab_type": "code",
        "outputId": "634a39cc-12ce-4eb9-a911-dbfc28ded786",
        "colab": {
          "base_uri": "https://localhost:8080/",
          "height": 260
        }
      },
      "source": [
        "features = []\n",
        "pearson_mat = np.zeros((len(features_chi2), len(features_chi2)))\n",
        "for i in range(len(features_chi2)):\n",
        "    for j in range(len(features_chi2)):\n",
        "        pearson_score = scipy.stats.pearsonr(train_data_chi2_subset[:,i]\n",
        "                                             , train_data_chi2_subset[:,j])[0]\n",
        "        pearson_mat[i,j] = pearson_score\n",
        "        if (pearson_score > .75 and i > j):\n",
        "            features.append([i,j])\n",
        "\n",
        "print('|Pearson score| > 0.75 \\n')\n",
        "print(np.abs(pearson_mat) > 0.75)"
      ],
      "execution_count": 0,
      "outputs": [
        {
          "output_type": "stream",
          "text": [
            "|Pearson score| > 0.75 \n",
            "\n",
            "[[ True False False False False False False False False False False False]\n",
            " [False  True False False False False False  True False False False False]\n",
            " [False False  True False False False False False False False False False]\n",
            " [False False False  True False False False False False False False False]\n",
            " [False False False False  True False False False False False False False]\n",
            " [False False False False False  True  True False False False False False]\n",
            " [False False False False False  True  True False False False False False]\n",
            " [False  True False False False False False  True False False False False]\n",
            " [False False False False False False False False  True False False False]\n",
            " [False False False False False False False False False  True False False]\n",
            " [False False False False False False False False False False  True False]\n",
            " [False False False False False False False False False False False  True]]\n"
          ],
          "name": "stdout"
        }
      ]
    },
    {
      "cell_type": "markdown",
      "metadata": {
        "id": "9zZo5ARXvvYS",
        "colab_type": "text"
      },
      "source": [
        "Delete one of the strongly correlated features\n"
      ]
    },
    {
      "cell_type": "code",
      "metadata": {
        "id": "VkssCYdGtmif",
        "colab_type": "code",
        "outputId": "8a84f5e0-3ad0-4ae2-c256-fda5c20d8e1a",
        "colab": {
          "base_uri": "https://localhost:8080/",
          "height": 34
        }
      },
      "source": [
        "features_pearson = []\n",
        "remove_index = []\n",
        "for i in range(len(features)):\n",
        "    remove_index.append(features[i][0])\n",
        "\n",
        "for i in range(len(features_chi2)):\n",
        "    if (i in remove_index):\n",
        "        continue\n",
        "    features_pearson.append(features_chi2[i])"
      ],
      "execution_count": 0,
      "outputs": [
        {
          "output_type": "stream",
          "text": [
            "10\n"
          ],
          "name": "stdout"
        }
      ]
    },
    {
      "cell_type": "code",
      "metadata": {
        "id": "DIMCvSf_y9Fc",
        "colab_type": "code",
        "outputId": "41653947-1a3e-4faf-abba-ed08dd53b3e0",
        "colab": {
          "base_uri": "https://localhost:8080/",
          "height": 34
        }
      },
      "source": [
        "knn_pearson = KNeighborsClassifier(n_neighbors=k_subset)\n",
        "knn_pearson = knn_pearson.fit(train_data[:,features_pearson], train_labels)\n",
        "pred = knn_pearson.predict(val_data[:, features_pearson])\n",
        "pearson_score = metrics.accuracy_score(val_labels, pred)\n",
        "print('The KNN classfier on a feature subset of size %d gives an accuracy of %.3f' %(len(features_pearson), pearson_score))"
      ],
      "execution_count": 0,
      "outputs": [
        {
          "output_type": "stream",
          "text": [
            "The KNN classfier on a subset of size 10 gives an accuracy of 0.988\n"
          ],
          "name": "stdout"
        }
      ]
    },
    {
      "cell_type": "markdown",
      "metadata": {
        "id": "KVD9usXwyFPU",
        "colab_type": "text"
      },
      "source": [
        "Final accuracy check on the test data this time (careful, only test with test set in the end) "
      ]
    },
    {
      "cell_type": "code",
      "metadata": {
        "id": "ZJU7y41uzx40",
        "colab_type": "code",
        "outputId": "9b85dcb9-3209-4954-98f3-05ffd4887160",
        "colab": {
          "base_uri": "https://localhost:8080/",
          "height": 121
        }
      },
      "source": [
        "print('Final test on test data \\n')\n",
        "\n",
        "pred = knn_allfeatures.predict(test_data)\n",
        "all_score = metrics.accuracy_score(test_labels, pred)\n",
        "print('The KNN classifier on the whole subset gives accuracy of %.3f' %all_score)\n",
        "\n",
        "pred = knn_reduced.predict(test_data[:, features_tree])\n",
        "tree_score = metrics.accuracy_score(test_labels, pred)\n",
        "print('The KNN classifier on feature subset of size %d gives accuracy of %.3f' %(len(features_tree), tree_score))\n",
        "\n",
        "pred = knn_chi2.predict(test_data[:, features_chi2])\n",
        "chi2_score = metrics.accuracy_score(test_labels, pred)\n",
        "print('The KNN classifier on feature subset of size %d gives accuracy of %.3f' %(len(features_chi2), chi2_score))\n",
        "\n",
        "pred = knn_pearson.predict(test_data[:, features_pearson])\n",
        "pearson_score = metrics.accuracy_score(test_labels, pred)\n",
        "print('The KNN classifier on feature subset of size %d gives accuracy of %.3f' %(len(features_pearson), pearson_score))"
      ],
      "execution_count": 0,
      "outputs": [
        {
          "output_type": "stream",
          "text": [
            "Final test on test data \n",
            "\n",
            "The KNN classifier on the whole subset gives accuracy of 1.000\n",
            "The KNN classifier on feature subset of size 21 gives accuracy of 0.981\n",
            "The KNN classifier on feature subset of size 12 gives accuracy of 0.975\n",
            "The KNN classifier on feature subset of size 10 gives accuracy of 0.969\n"
          ],
          "name": "stdout"
        }
      ]
    }
  ]
}